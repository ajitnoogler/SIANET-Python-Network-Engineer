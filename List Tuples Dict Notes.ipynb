{
 "cells": [
  {
   "cell_type": "markdown",
   "id": "b6bcf65a",
   "metadata": {},
   "source": [
    "#### Array: A collection of similar datatypes.\n",
    "\n",
    "- If you want an array that holds only one data type (like C arrays), you can use the array module.\n",
    "\n",
    "- You must specify a type code (e.g., 'i' for integers, 'f' for floats)."
   ]
  },
  {
   "cell_type": "code",
   "execution_count": null,
   "id": "a4bb1251",
   "metadata": {},
   "outputs": [],
   "source": [
    "import array\n",
    "numbers = array.array('i', [1, 2, 3, 4])\n",
    "numbers.append(5)\n",
    "print(numbers)"
   ]
  },
  {
   "cell_type": "markdown",
   "id": "e6092098",
   "metadata": {},
   "source": [
    "#### List []\n",
    "- List is a collection which is ordered and changeable or mutable, allow duplicate member.\n",
    "- In Python list are writen in square bracket [..]\n",
    "- List can contains any data-types.\n",
    "\n",
    "name = [\"Ajit\", \"Leo\"]\n",
    "name = [\"A\",\"J\",\"I\",\"T\"]\n",
    "\n",
    "### Example:\n",
    "name = [\"A\", \"J\", \"I\", \"T\"]\n",
    "---------------------------------------------\n",
    "| Element | Positive Index | Negative Index |\n",
    "| ------- | -------------- | -------------- |\n",
    "| \"A\"     | 0              | -4             |\n",
    "| \"J\"     | 1              | -3             |\n",
    "| \"I\"     | 2              | -2             |\n",
    "| \"T\"     | 3              | -1             |\n",
    "---------------------------------------------"
   ]
  },
  {
   "cell_type": "code",
   "execution_count": null,
   "id": "274ba75d",
   "metadata": {},
   "outputs": [],
   "source": [
    "### Accessing elements:\n",
    "\n",
    "name = [\"A\",\"J\",\"I\",\"T\"]\n",
    "\n",
    "print(name[0])   # \"A\"\n",
    "print(name[2])   # \"I\"\n",
    "print(name[-1])  # \"T\"\n",
    "print(name[-4])  # \"A\"\n",
    "\n",
    "###  IndexError: \n",
    "print(name[4])   # ❌ IndexError: list index out of range"
   ]
  },
  {
   "cell_type": "markdown",
   "id": "d1add9a8",
   "metadata": {},
   "source": [
    "### Slicing:\n",
    "Syntax of slicing: list[start : end : step]\n",
    "\n",
    "- start: Where to begin (default is 0)\n",
    "- end: Where to stop (default is end of list)\n",
    "- step: How many items to skip\n",
    "\n",
    "### Visual Break down:- \" print(name[::2])    # ['A', 'I']  → every 2nd element \"\n",
    "\n",
    "| Index | Value | Step Explanation       |\n",
    "| ----- | ----- | -----------------------|\n",
    "| 0     | \"A\"   | ✅ Include (step = 2) |\n",
    "| 1     | \"J\"   | ❌ Skipped            |\n",
    "| 2     | \"I\"   | ✅ Include            |\n",
    "| 3     | \"T\"   | ❌ Skipped            |\n"
   ]
  },
  {
   "cell_type": "code",
   "execution_count": null,
   "id": "9e3837d3",
   "metadata": {},
   "outputs": [],
   "source": [
    "# List Slicing:\n",
    "name = [\"A\",\"J\",\"I\",\"T\"]\n",
    "\n",
    "print(name[1:3])    # ['J', 'I']  → from index 1 to 2 (3 excluded)   # [0: n-1] or  # [1: n-1]\n",
    "print(name[:2])     # ['A', 'J']\n",
    "print(name[::2])    # ['A', 'I']  → every 2nd element"
   ]
  },
  {
   "cell_type": "markdown",
   "id": "8d2e8393",
   "metadata": {},
   "source": [
    "### Modifying using index:\n",
    "name = [\"A\",\"J\",\"I\",\"T\"]\n",
    "\n",
    "name[2] = \"K\"\n",
    "print(name)  # ['A', 'J', 'K', 'T']"
   ]
  },
  {
   "cell_type": "code",
   "execution_count": null,
   "id": "b6cc9479",
   "metadata": {},
   "outputs": [],
   "source": [
    "a = [\"Dhiraj\", 1,3.0] # List stores references to the elements' memory locations.\n",
    "\n",
    "# Dhiraj, 1, 3.0\n",
    "#    0   , 1, 2\n",
    "#   -3   ,-2,-1\n",
    "\n",
    "print(a)\n",
    "\n",
    "print(a[0]) # Dhiraj is on index 0 of the list \"a\"\n",
    "print(a[1])\n",
    "print(a[2])\n",
    "\n",
    "print(\"######Negative-Index#######\")\n",
    "print(a[-1])\n",
    "print(a[-2])\n",
    "print(a[-3])\n",
    "\n",
    "print(\"########List-Slicing-Elements#######\")\n",
    "\n",
    "print(a[0:2])   # [0: n-1]\n",
    "\n",
    "print(a[0][3])  # to print \"r\" from Dhiraj\n",
    "print(a[0][2:6]) # to print \"iraj\" from Dhiraj\n",
    "\n",
    "# D, h, i, r, a, j\n",
    "# 0, 1, 2, 3, 4, 5\n",
    "#-6,-5,-4,-3,-2,-1\n",
    "\n",
    "print(a[0][3:6] + \" \"+ str(a[1])) # accessing two elements from list and concatenate with type casting.\n",
    "print(a[0][3] + str(a[1]))\n",
    "\n",
    "print(\"###########List-Modify-Elements##########\")\n",
    "\n",
    "print(f\"Before Modifying List: {a}\")\n",
    "a[0] = \"SIA\"\n",
    "print(f\"After Modifying List: {a}\")\n",
    "\n",
    "print(\"###########List-Delete-Elements##########\")\n",
    "print(f\"Before deleting element List: {a}\")\n",
    "\n",
    "del a[2]\n",
    "print(f\"After deleting element List: {a}\")\n",
    "\n",
    "# 'del' removes the reference of the element from the list.\n",
    "# Actual memory is freed automatically by Python's garbage collector if no references exist.\n",
    "\n",
    "#Memory effect: del a[2]\n",
    "#    List a still exists.\n",
    "#    Only reference to 3.0 is removed.\n",
    "\n",
    "# Memory effect: del a\n",
    "#    The list a itself is gone.\n",
    "#    All references to its elements are removed.\n",
    "#    If elements are not referenced elsewhere, they are also freed from memory.\n",
    "\n"
   ]
  },
  {
   "cell_type": "code",
   "execution_count": null,
   "id": "6a10b0b6",
   "metadata": {},
   "outputs": [],
   "source": [
    "# Empty List Declaration and list() Function Usage:\n",
    "a = [] # To Declare Empty List\n",
    "print(type(a)) # Datatype is List.\n",
    "print(a) # It will print empty list.\n",
    "\n",
    "b = list() # This is list() is built-in function.\n",
    "print(b) # This list() is also empty list.\n",
    "\n",
    "# Basic Usage of list()\n",
    "name = \"AJIT\"\n",
    "print(list(name))\n",
    "\n",
    "# list() is a in-built function that creates a new list.\n",
    "#\n",
    "# You can:\n",
    "#    - Convert other data types into a list\n",
    "#    - Create an empty list\n",
    "#    - Convert strings, tuples, sets to lists"
   ]
  },
  {
   "cell_type": "code",
   "execution_count": null,
   "id": "4b7f5621",
   "metadata": {},
   "outputs": [],
   "source": [
    "# Empty List Declaration and list() Function Usage:\n",
    "\n",
    "l = []\n",
    "print(type(l))\n",
    "l=list()\n",
    "print(l) # [] - This is Empty List\n",
    "l.append(input(\"Enter the Element to add in List: \"))\n",
    "print(l)\n",
    "\n",
    "R = list(range(1,10))\n",
    "print(R)"
   ]
  },
  {
   "cell_type": "markdown",
   "id": "57d7bda6",
   "metadata": {},
   "source": [
    "#### range(start, stop, step) in Python\n",
    "\n",
    "### Parameters:\n",
    "| Parameter | Meaning                                         |\n",
    "| --------- | ----------------------------------------------- |\n",
    "| `start`   | Where the range starts (inclusive)              |\n",
    "| `stop`    | Where the range ends (exclusive / not included) |\n",
    "| `step`    | How much to increment between each number       |\n",
    "\n",
    "# Sample Program for range to get even & odd numbers in list.\n",
    "\n",
    "```bash\n",
    "b = list(range(0,11,2))\n",
    "print(f\"Even numbers are : {b}\") # prints even numbers  [0, 2, 4, 6, 8, 10]\n",
    "\n",
    "\n",
    "c = list(range(1,11,2))\n",
    "print(f\"Odd numbers are: {c}\") # Prints Odd numbers [1, 3, 5, 7, 9]\n",
    "```\n",
    "\n",
    "# Breakdown:\n",
    "\n",
    "    Start = 1\n",
    "    Start the sequence from 1.\n",
    "\n",
    "    Stop = 11\n",
    "    It goes up to but does not include 11.\n",
    "\n",
    "    Step = 2\n",
    "    Add 2 each time to move to the next number.\n",
    "\n",
    "```bash\n",
    "# | Want to generate  | Use this range     |\n",
    "  | ----------------- | ------------------ |\n",
    "  | Even numbers 0-10 | `range(0, 11, 2)`  |\n",
    "  | Odd numbers 1-10  | `range(1, 11, 2)`  |\n",
    "  | Countdown 10-1    | `range(10, 0, -1)` |\n",
    "```"
   ]
  },
  {
   "cell_type": "code",
   "execution_count": null,
   "id": "d96afd2e",
   "metadata": {},
   "outputs": [],
   "source": [
    "a = [\"Dhiraj\", 1,3.0] # List stores references to the elements' memory locations.\n",
    "\n",
    "# Dhiraj, 1, 3.0\n",
    "#    0   , 1, 2\n",
    "#   -3   ,-2,-1\n",
    "\n",
    "print(a)\n",
    "\n",
    "print(a[0]) # Dhiraj is on index 0 of the list \"a\"\n",
    "print(a[1])\n",
    "print(a[2])\n"
   ]
  },
  {
   "cell_type": "code",
   "execution_count": null,
   "id": "faa5b47c",
   "metadata": {},
   "outputs": [],
   "source": [
    "print(\"######Negative-Index#######\")\n",
    "print(a[-1])\n",
    "print(a[-2])\n",
    "print(a[-3])"
   ]
  },
  {
   "cell_type": "code",
   "execution_count": null,
   "id": "5d82dfac",
   "metadata": {},
   "outputs": [],
   "source": [
    "print(\"########List-Slicing-Elements#######\")\n",
    "\n",
    "print(a[0:2])   # [0: n-1]\n",
    "\n",
    "print(a[0][3])  # to print \"r\" from Dhiraj\n",
    "print(a[0][2:6]) # to print \"iraj\" from Dhiraj\n",
    "\n",
    "# D, h, i, r, a, j\n",
    "# 0, 1, 2, 3, 4, 5\n",
    "#-6,-5,-4,-3,-2,-1\n",
    "\n",
    "print(a[0][3:6] + \" \"+ str(a[1])) # accessing two elements from list and concatenate with type casting.\n",
    "print(a[0][3] + str(a[1]))"
   ]
  },
  {
   "cell_type": "code",
   "execution_count": null,
   "id": "12298f18",
   "metadata": {},
   "outputs": [],
   "source": [
    "print(\"###########List-Modify-Elements##########\")\n",
    "\n",
    "print(f\"Before Modifying List: {a}\")\n",
    "a[0] = \"SIA\"\n",
    "print(f\"After Modifying List: {a}\")\n"
   ]
  },
  {
   "cell_type": "code",
   "execution_count": null,
   "id": "701640c5",
   "metadata": {},
   "outputs": [],
   "source": [
    "print(\"###########List-Delete-Elements##########\")\n",
    "\n",
    "a = ['Apple', 'Mango', 'Banana', 'Cherry', 'Blue-berry']\n",
    "print(f\"Before deleting elements range from the List: {a}\")\n",
    "del a[1:3]  # this will delete mango and banana from the list.\n",
    "print(f\"After deleting elements range from the List: {a}\")\n",
    "\n",
    "\n",
    "a = ['Apple', 'Mango', 'Banana', 'Cherry', 'Blue-berry']\n",
    "print(f\"Before deleting element List: {a}\")\n",
    "del a[2] # This will remove Banana from the list\n",
    "print(f\"After deleting element List: {a}\")\n",
    "\n",
    "\n",
    "# 'del' removes the reference of the element from the list.\n",
    "# Actual memory is freed automatically by Python's garbage collector if no references exist.\n",
    "\n",
    "#Memory effect: del a[2]\n",
    "#    List a still exists.\n",
    "#    Only reference to 3.0 is removed.\n",
    "\n",
    "# Memory effect: del a\n",
    "#    The list a itself is gone.\n",
    "#    All references to its elements are removed.\n",
    "#    If elements are not referenced elsewhere, they are also freed from memory.\n"
   ]
  },
  {
   "cell_type": "code",
   "execution_count": null,
   "id": "83286640",
   "metadata": {},
   "outputs": [],
   "source": [
    "print(\"###########Empty-List-Elements##########\")\n",
    "\n",
    "l = []\n",
    "print(type(l))\n",
    "\n",
    "R = list(range(1,10))\n",
    "print(R)\n",
    "\n",
    "Odd = list(range(1,10,2))\n",
    "print(f\"Odd numbers are: {Odd}\")\n",
    "\n",
    "Even = list(range(0,10,2))\n",
    "print(f\"Even numbers are: {Even}\")\n",
    "\n",
    "# range(start, stop, step) syntax:\n",
    "#\n",
    "#     start → where the sequence begins (inclusive)\n",
    "#     stop → where the sequence ends (exclusive, not included)\n",
    "#     step → the gap between each number\n",
    "\n",
    "# Your code explanation:\n",
    "#    start = 1 → sequence starts at 1\n",
    "#    stop = 10 → goes up to 10 but does not include 10\n",
    "#    step = 2 → adds 2 each time\n"
   ]
  },
  {
   "cell_type": "code",
   "execution_count": null,
   "id": "04495b8b",
   "metadata": {},
   "outputs": [],
   "source": [
    "print(\"###########Append-Elements-Into_List##########\")\n",
    "fruits = ['apple', 'Banana', 'Cherry']\n",
    "print(f\"Before Append Fruits List is: {fruits}\")\n",
    "fruits.append(\"Mango\")\n",
    "print(f\"After Append Fruits List is: {fruits}\") # Append only one Elements at the ends of the list\n",
    "\n",
    "l=list()\n",
    "print(l) # [] - This is Empty List\n",
    "l.append(input(\"Enter the Element to add in List: \"))\n",
    "print(l)"
   ]
  },
  {
   "cell_type": "code",
   "execution_count": null,
   "id": "726a64c8",
   "metadata": {},
   "outputs": [],
   "source": [
    "print(\"###########Extend-Elements-Into_List##########\")\n",
    "\n",
    "fruits = ['apple', 'Banana', 'Cherry']\n",
    "print(f\"The Fruits list Before extend is: {fruits}\")\n",
    "fruits.extend([\"Dragonfruit\",\"Mango\",2,4])  # Add more than one elements in List\n",
    "print(f\"The Fruits list post extend is: {fruits}\")\n"
   ]
  },
  {
   "cell_type": "code",
   "execution_count": null,
   "id": "e5d6cd5e",
   "metadata": {},
   "outputs": [],
   "source": [
    "print(\"###########Insert-Elements-Into_List##########\")\n",
    "fruits = ['apple', 'Banana', 'Cherry']\n",
    "print(f\"The Fruits list Before insert is: {fruits}\")\n",
    "fruits.insert(1,\"mango\") # inserting user desire element at specific index of the List\n",
    "print(f\"The Fruits list After insert is: {fruits}\")"
   ]
  },
  {
   "cell_type": "code",
   "execution_count": null,
   "id": "a3a00f2c",
   "metadata": {},
   "outputs": [],
   "source": [
    "print(\"###########Remove-Elements-Into_List##########\")\n",
    "fruits = ['apple', 'mango', 'Banana', 'Cherry']\n",
    "print(f\"The Fruits list Before remove is: {fruits}\")\n",
    "fruits.remove(\"mango\")\n",
    "print(f\"The Fruits list after remove is: {fruits}\")"
   ]
  },
  {
   "cell_type": "code",
   "execution_count": null,
   "id": "c85f7660",
   "metadata": {},
   "outputs": [],
   "source": [
    "print(\"###########PoP-Elements-Into_List##########\")\n",
    "fruits = ['Apple', 'Mango', 'Banana', 'Cherry', 'Blue-berry']\n",
    "print(f\"The Fruits list Before PoP is: {fruits}\")\n",
    "fruits.pop() # if you dont mention anything in () it removes last elements from list\n",
    "print(f\"The Fruits list after PoP() is: {fruits}\")\n",
    "\n",
    "fruits.pop(2) # here i mention index of banana which is 2 and it removes banana from list\n",
    "print(f\"The Fruits list after PoP is: {fruits}\")\n",
    "print(fruits)\n",
    "x = fruits.pop(2)\n",
    "print(x) # this print the element which was pop out of the list fruits\n"
   ]
  },
  {
   "cell_type": "code",
   "execution_count": null,
   "id": "c5f22fb1",
   "metadata": {},
   "outputs": [],
   "source": [
    "print(\"############Summary################\")\n",
    "fruits = ['Apple', 'Mango', 'Banana']\n",
    "\n",
    "fruits.append(\"Cherry\")\n",
    "fruits.extend([\"Blue-Berry\",3,4,5])\n",
    "print(fruits)\n",
    "fruits.insert(1,\"Jamun\")\n",
    "print(fruits)\n",
    "fruits.remove(\"Blue-Berry\")\n",
    "print(fruits)\n",
    "\n",
    "del fruits[3]\n",
    "print(fruits)\n",
    "\n",
    "fruits.pop(1)\n",
    "print(fruits)"
   ]
  },
  {
   "cell_type": "code",
   "execution_count": null,
   "id": "d880c21c",
   "metadata": {},
   "outputs": [],
   "source": [
    "print(\"############Length-List################\")\n",
    "fruits = ['Apple', 'Mango', 'Banana', 'Cherry', 'Blue-berry']\n",
    "print(len(fruits))"
   ]
  },
  {
   "cell_type": "code",
   "execution_count": null,
   "id": "eb95e4c4",
   "metadata": {},
   "outputs": [],
   "source": [
    "print(\"############Count-List################\")\n",
    "fruits = ['Apple', 'Mango', 'Banana', 'Cherry', 'Banana',  'Blue-berry']\n",
    "print(fruits)\n",
    "print(fruits.count(\"Banana\")) # Its counting How many time Banana is there in list"
   ]
  },
  {
   "cell_type": "code",
   "execution_count": null,
   "id": "b4ecc751",
   "metadata": {},
   "outputs": [],
   "source": [
    "print(\"############Clear-List################\")\n",
    "fruits = ['Apple', 'Mango', 'Banana', 'Cherry', 'Blue-berry']\n",
    "fruits.clear() # it will empty the list []\n",
    "# here, difference between clear and del is clear returns empty list whereas del delete memory reference of list.\n",
    "print(fruits)"
   ]
  },
  {
   "cell_type": "code",
   "execution_count": null,
   "id": "a4884473",
   "metadata": {},
   "outputs": [],
   "source": [
    "print(\"############Sort-List################\")\n",
    "ip_address = ['192.168.1.10',\n",
    "              '192.168.1.20',\n",
    "              '192.168.1.14',\n",
    "              '192.168.1.16',\n",
    "              '192.168.1.18']\n",
    "\n",
    "ip_address.sort(reverse=False)\n",
    "print(ip_address)\n",
    "\n",
    "\n",
    "fruits = ['Apple', 'Mango', 'Banana', 'Cherry', 'Blue-berry', 'Banana', 'Cherry']\n",
    "fruits.sort(reverse=False)\n",
    "print(fruits)\n"
   ]
  },
  {
   "cell_type": "code",
   "execution_count": null,
   "id": "9cb6416a",
   "metadata": {},
   "outputs": [],
   "source": [
    "print(\"############-Reverse-List################\")\n",
    "ip_address = ['192.168.1.10',\n",
    "              '192.168.1.20',\n",
    "              '192.168.1.14',\n",
    "              '192.168.1.16',\n",
    "              '192.168.1.18']\n",
    "ip_address.reverse()\n",
    "print(ip_address)\n",
    "\n",
    "fruits = ['Apple', 'Mango', 'Banana', 'Cherry', 'Blue-berry', 'Banana', 'Cherry']\n",
    "fruits.reverse()\n",
    "print(fruits)"
   ]
  },
  {
   "cell_type": "code",
   "execution_count": null,
   "id": "4250b001",
   "metadata": {},
   "outputs": [],
   "source": [
    "print(\"############Copy-List################\")\n",
    "fruits = ['Apple', 'Mango', 'Banana', 'Cherry', 'Blue-berry', 'Banana', 'Cherry']\n",
    "\n",
    "fruits_2 = fruits.copy()\n",
    "print(fruits_2)\n",
    "\n",
    "fruits_3 = fruits[1:4].copy()\n",
    "print(fruits_3)\n",
    "\n",
    "print(id(fruits))\n",
    "print(id(fruits_2))\n",
    "print(id(fruits_3))"
   ]
  },
  {
   "cell_type": "code",
   "execution_count": null,
   "id": "385ac614",
   "metadata": {},
   "outputs": [],
   "source": [
    "print(\"############-Nested-List-################\")\n",
    "\n",
    "l2 = [1,2,3,4,[5,6,7],4,3,[9,\"Dhiraj\",\"SIA\"],56,7.9,['d','p','c']]\n",
    "print(l2[7][1][2])\n",
    "print(l2[7][1][3:6])\n"
   ]
  }
 ],
 "metadata": {
  "language_info": {
   "name": "python"
  }
 },
 "nbformat": 4,
 "nbformat_minor": 5
}
