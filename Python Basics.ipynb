{
 "cells": [
  {
   "cell_type": "markdown",
   "id": "3aa39038",
   "metadata": {},
   "source": [
    "#### What is a Variable?\n",
    "A variable is like a container used to store data in a Python program.\n",
    "You assign a value to it using the = operator."
   ]
  },
  {
   "cell_type": "code",
   "execution_count": null,
   "id": "7edc3b0d",
   "metadata": {},
   "outputs": [],
   "source": [
    "name = \"Ajit\"         # Stores a string\n",
    "age = 36              # Stores an integer\n",
    "is_active = True      # Stores a boolean"
   ]
  },
  {
   "cell_type": "markdown",
   "id": "d2e4f0ba",
   "metadata": {},
   "source": [
    "#### What are Data Types?\n",
    "\n",
    "**Data types** define the kind of data a variable can hold.\n",
    "\n",
    "### 🔹 1. **Numeric Types**\n",
    "\n",
    "| Type      | Description     | Example      |\n",
    "| --------- | --------------- | ------------ |\n",
    "| `int`     | Whole numbers   | `age = 36`   |\n",
    "| `float`   | Decimal numbers | `pi = 3.14`  |\n",
    "| `complex` | Complex numbers | `z = 2 + 3j` |\n",
    "\n",
    "---"
   ]
  },
  {
   "cell_type": "markdown",
   "id": "6bd1b47a",
   "metadata": {},
   "source": [
    "\n",
    "### 🔹 2. **Text Type**\n",
    "\n",
    "| Type  | Description | Example         |\n",
    "| ----- | ----------- | --------------- |\n",
    "| `str` | Text string | `name = \"Ajit\"` |\n"
   ]
  },
  {
   "cell_type": "markdown",
   "id": "b02bd495",
   "metadata": {},
   "source": [
    "### 🔹 3. **Boolean Type**\n",
    "\n",
    "| Type   | Description   | Example            |\n",
    "| ------ | ------------- | ------------------ |\n",
    "| `bool` | True or False | `is_active = True` |\n",
    "---"
   ]
  },
  {
   "cell_type": "markdown",
   "id": "fae26967",
   "metadata": {},
   "source": [
    "### 🔹 4. **Sequence Types**\n",
    "\n",
    "| Type    | Description              | Example                       |\n",
    "| ------- | ------------------------ | ----------------------------- |\n",
    "| `list`  | Ordered, changeable list | `fruits = [\"apple\", \"mango\"]` |\n",
    "| `tuple` | Ordered, unchangeable    | `colors = (\"red\", \"blue\")`    |\n",
    "| `range` | Sequence of numbers      | `r = range(5)`                |\n",
    "---"
   ]
  },
  {
   "cell_type": "markdown",
   "id": "ec90580e",
   "metadata": {},
   "source": [
    "### 🔹 5. **Set Types**\n",
    "\n",
    "| Type        | Description              | Example                     |\n",
    "| ----------- | ------------------------ | --------------------------- |\n",
    "| `set`       | Unordered, no duplicates | `nums = {1, 2, 3}`          |\n",
    "| `frozenset` | Immutable set            | `fs = frozenset([1, 2, 3])` |\n",
    "---"
   ]
  },
  {
   "cell_type": "markdown",
   "id": "bb32f79a",
   "metadata": {},
   "source": [
    "### 🔹 6. **Mapping Type**\n",
    "\n",
    "| Type   | Description     | Example                                |\n",
    "| ------ | --------------- | -------------------------------------- |\n",
    "| `dict` | Key-value pairs | `person = {\"name\": \"Ajit\", \"age\": 36}` |\n",
    "---"
   ]
  },
  {
   "cell_type": "markdown",
   "id": "354e91ac",
   "metadata": {},
   "source": [
    "\n",
    "### 🔹 7. **None Type**\n",
    "\n",
    "| Type   | Description      | Example    |\n",
    "| ------ | ---------------- | ---------- |\n",
    "| `None` | No value / empty | `x = None` |"
   ]
  },
  {
   "cell_type": "code",
   "execution_count": null,
   "id": "135d95a4",
   "metadata": {},
   "outputs": [],
   "source": [
    "# Variable declarations with different data types\n",
    "name = \"Ajit\"           # str\n",
    "age = 36                # int\n",
    "pi = 3.14               # float\n",
    "is_logged_in = True     # bool\n",
    "colors = [\"red\", \"blue\"]  # list\n",
    "user = {\"id\": 1, \"name\": \"Ajit\"}  # dict\n",
    "nothing = None          # NoneType"
   ]
  },
  {
   "cell_type": "markdown",
   "id": "9046726a",
   "metadata": {},
   "source": [
    "#### global Keyword in Python\n",
    "The global keyword is used to modify a global variable from inside a function."
   ]
  },
  {
   "cell_type": "code",
   "execution_count": null,
   "id": "a59694b4",
   "metadata": {},
   "outputs": [],
   "source": [
    "####  Without global\n",
    "\n",
    "x = 10\n",
    "\n",
    "def my_func():\n",
    "    x = 5  # Local variable, doesn't change the global 'x'\n",
    "\n",
    "my_func()\n",
    "print(x)   # Output: 10\n"
   ]
  },
  {
   "cell_type": "markdown",
   "id": "5872a212",
   "metadata": {},
   "source": [
    "#### With global\n",
    "\n",
    "x = 10\n",
    "\n",
    "def my_func():\n",
    "    global x\n",
    "    x = 5  # Changes the global 'x'\n",
    "\n",
    "my_func()\n",
    "print(x)   # Output: 5"
   ]
  },
  {
   "cell_type": "markdown",
   "id": "285fc74c",
   "metadata": {},
   "source": [
    "#### When to Use global\n",
    "When you need to update a global variable inside a function.\n",
    "\n",
    "Avoid overusing it – too many global variables make code hard to debug.\n",
    "\n",
    "counter = 0\n",
    "\n",
    "def increment():\n",
    "    global counter\n",
    "    counter += 1\n",
    "\n",
    "increment()\n",
    "increment()\n",
    "print(counter)  # Output: 2"
   ]
  },
  {
   "cell_type": "markdown",
   "id": "b47a54aa",
   "metadata": {},
   "source": [
    "\n",
    "#### 🚫 Don't Confuse With: globals()\n",
    "global (keyword) is used to modify a global variable.\n",
    "\n",
    "globals() (built-in function) returns a dictionary of all global variables.\n",
    "\n",
    "x = 42\n",
    "print(globals()['x'])  # Output: 42"
   ]
  },
  {
   "cell_type": "code",
   "execution_count": 8,
   "id": "54197d17",
   "metadata": {},
   "outputs": [
    {
     "ename": "TypeError",
     "evalue": "unsupported operand type(s) for +: 'int' and 'str'",
     "output_type": "error",
     "traceback": [
      "\u001b[31m---------------------------------------------------------------------------\u001b[39m",
      "\u001b[31mTypeError\u001b[39m                                 Traceback (most recent call last)",
      "\u001b[36mCell\u001b[39m\u001b[36m \u001b[39m\u001b[32mIn[8]\u001b[39m\u001b[32m, line 3\u001b[39m\n\u001b[32m      1\u001b[39m a=\u001b[32m2\u001b[39m\n\u001b[32m      2\u001b[39m b=\u001b[33m\"\u001b[39m\u001b[33m2\u001b[39m\u001b[33m\"\u001b[39m\n\u001b[32m----> \u001b[39m\u001b[32m3\u001b[39m \u001b[38;5;28mprint\u001b[39m(\u001b[43ma\u001b[49m\u001b[43m+\u001b[49m\u001b[43mb\u001b[49m) \u001b[38;5;66;03m# This print operation will raise an error because you cannot add int and str directly\u001b[39;00m\n",
      "\u001b[31mTypeError\u001b[39m: unsupported operand type(s) for +: 'int' and 'str'"
     ]
    }
   ],
   "source": [
    "a=2\n",
    "b=\"2\"\n",
    "print(a+b) # This print operation will raise an error because you cannot add int and str directly"
   ]
  },
  {
   "cell_type": "code",
   "execution_count": null,
   "id": "9dccb075",
   "metadata": {},
   "outputs": [
    {
     "name": "stdout",
     "output_type": "stream",
     "text": [
      "<class 'str'>\n",
      "4\n",
      "22\n",
      "4\n",
      "22\n",
      "22\n"
     ]
    }
   ],
   "source": [
    "a=2\n",
    "b=\"2\"\n",
    "print(type(b))\n",
    "print(a*2)\n",
    "print(b*2)\n",
    "print(a+a) # This will print the type of b, which is <class 'str'>\n",
    "print(b+b) # This will concatenate the string \"2\" with itself, resulting in \"22\"\n",
    "print(a*b) # This will print str 2 * 2 means 2 is repeated 2 times, resulting in \"22\" In short Print string 2 twice.\n"
   ]
  },
  {
   "cell_type": "code",
   "execution_count": null,
   "id": "1cd92904",
   "metadata": {},
   "outputs": [],
   "source": [
    "Concatinating Strings\n",
    "a=2\n",
    "b=\"2\"\n"
   ]
  },
  {
   "cell_type": "code",
   "execution_count": 10,
   "id": "c5f27715",
   "metadata": {},
   "outputs": [
    {
     "name": "stdout",
     "output_type": "stream",
     "text": [
      "Pune\n",
      "\"Pune\"\n",
      "\n",
      " \t 'Pune'\n"
     ]
    }
   ],
   "source": [
    "print('Pune') # This will print the string \"Pune\" with quotes\n",
    "print('\"Pune\"') # This will print the string \"Pune\" with quotes\n",
    "print(\"\\n \\t 'Pune'\") # This will print the string \"Pune\" with a newline and tab before it\n"
   ]
  },
  {
   "cell_type": "code",
   "execution_count": null,
   "id": "b5173237",
   "metadata": {},
   "outputs": [
    {
     "name": "stdout",
     "output_type": "stream",
     "text": [
      "P\n",
      "u\n",
      "n\n",
      "e\n",
      "---------------------------------------\n",
      "e\n",
      "n\n",
      "u\n",
      "P\n",
      "---------------------------------------\n",
      "Pu\n",
      "un\n",
      "ne\n",
      "Pune\n",
      "Pune\n",
      "Pu\n"
     ]
    }
   ],
   "source": [
    "# String Slicing\n",
    "\n",
    "s = \"Pune\"\n",
    "print(s[0])  # Output: 'P' - 0\n",
    "print(s[1])  # Output: 'u' - 1 \n",
    "print(s[2])  # Output: 'n' - 2     \n",
    "print(s[3])  # Output: 'e' - 3\n",
    "print(\"---------------------------------------\")\n",
    "print(s[-1]) # Output: 'e' - -1 (last character)\n",
    "print(s[-2]) # Output: 'n' - -2 (second last character)\n",
    "print(s[-3]) # Output: 'u' - -3 (third last character)\n",
    "print(s[-4]) # Output: 'P' - -4 (fourth last character)\n",
    "print(\"---------------------------------------\")\n",
    "print(s[0:2])  # Output: 'Pu' - characters from index 0 to 1\n",
    "print(s[1:3])  # Output: 'un' - characters from index 1 to 2\n",
    "print(s[2:4])  # Output: 'ne' - characters from index 2 to 3\n",
    "print(s[0:4])  # Output: 'Pune' - characters from index 0 to 3\n",
    "print(s[0:])   # Output: 'Pune' - characters from index 0 to the end\n",
    "print(s[:2])   # Output: 'Pu' - characters from the start to index      \n"
   ]
  },
  {
   "cell_type": "code",
   "execution_count": null,
   "id": "b7ed3e71",
   "metadata": {},
   "outputs": [
    {
     "name": "stdout",
     "output_type": "stream",
     "text": [
      "Updated String :-, var1[6:])  # Output: 'World!' - characters from index 6 to the end\n",
      "Updated String :-, var1[6:11])  # Output: 'World' - characters from index 6 to 10\n",
      "Updated String :-, var1[6:11])  # Output: 'World' - characters from index 6 to 10\n",
      "Updated String :- Hello \n",
      "Updated String :- Hello Python\n"
     ]
    }
   ],
   "source": [
    "var1 = \"Hello World!\"\n",
    "print(\"Updated String :-, var1[6:])  # Output: 'World!' - characters from index 6 to the end\")\n",
    "print(\"Updated String :-, var1[6:11])  # Output: 'World' - characters from index 6 to 10\")\n",
    "print(\"Updated String :-, var1[6:11])  # Output: 'World' - characters from index 6 to 10\")\n",
    "print(\"Updated String :-\", var1[:6])\n",
    "print(\"Updated String :-\", var1[:6] + 'Python')  # Print Hello and then overwrite with Python. Output: Hello Python  "
   ]
  },
  {
   "cell_type": "code",
   "execution_count": 44,
   "id": "12f42c1a",
   "metadata": {},
   "outputs": [
    {
     "name": "stdout",
     "output_type": "stream",
     "text": [
      "Welcome to SIA & I love Python 3\n",
      "Welcome to SIA & I love Python 3\n",
      "Welcome to SIA & I love Python 3\n",
      "Welcome to SIA & I love Python 3 thanks for coming\n",
      "Welcome to SIA & I love Python 3 thanks for coming\n",
      "Welcome to SIA & I love Python 3 thanks for coming\n",
      "Welcome to SIA & I love Python 3 thanks for coming\n"
     ]
    }
   ],
   "source": [
    "a = \"I love Python 3\"\n",
    "b=\"Welcome to SIA\"\n",
    "\n",
    "print(b + \" \" + \"&\" + \" \" + a)  # Concatenates the two strings with a space in between\n",
    "print(b + \" & \" + a)  # Concatenates the two strings with a space in between\n",
    "print(f\"{b} & {a}\")  # Using f-string for formatting\n",
    "print(\"%s & %s thanks for coming\" %(b, a))  # Using old-style string formatting\n",
    "print(\"{0} & {1} thanks for coming\".format(b, a))  # Using str.format() method\n",
    "print(b[0:14] + \" & \" + a[0:15] + \" \" + \"thanks for coming\")  # Concatenates the two strings with a space in between and slices the strings\n",
    "print(b[-14:] + \" & \" + a[-15:] + \" thanks for coming\") # Negative slicing to get the last 14 and 15 characters of b and a respectively\n"
   ]
  },
  {
   "cell_type": "markdown",
   "id": "0947c2ca",
   "metadata": {},
   "source": [
    "# Datatype Conversion / Type Conversion\n",
    "# Common Type Conversion Functions\n",
    "\n",
    "| Function  | Converts To | Example          | Result          |\n",
    "| --------- | ----------- | ---------------- | --------------- |\n",
    "| `int()`   | Integer     | `int(\"10\")`      | `10`            |\n",
    "| `float()` | Float       | `float(\"3.14\")`  | `3.14`          |\n",
    "| `str()`   | String      | `str(100)`       | `\"100\"`         |\n",
    "| `list()`  | List        | `list(\"abc\")`    | `['a','b','c']` |\n",
    "| `tuple()` | Tuple       | `tuple([1, 2])`  | `(1, 2)`        |\n",
    "| `set()`   | Set         | `set([1,2,2,3])` | `{1, 2, 3}`     |\n",
    "| `bool()`  | Boolean     | `bool(\"\")`       | `False`         |\n",
    "\n",
    "#  Convert string to int:\n",
    "x = \"50\"\n",
    "y = int(x)\n",
    "print(y + 10)  # Output: 60\n",
    "\n",
    "# Convert float to int:\n",
    "price = 9.99\n",
    "rounded = int(price)\n",
    "print(rounded)  # Output: 9\n",
    "\n",
    "# Convert int to string:\n",
    "age = 36\n",
    "print(\"Age is \" + str(age))  # Output: Age is 36\n",
    "\n",
    "# Convert list to tuple:\n",
    "data = [1, 2, 3]\n",
    "print(tuple(data))  # Output: (1, 2, 3)\n",
    "\n",
    "# Convert string to list:\n",
    "name = \"Ajit\"\n",
    "print(list(name))  # Output: ['A', 'j', 'i', 't']\n",
    "\n",
    "⚠️ Note:\n",
    "Not all conversions are valid:\n",
    "int(\"abc\")  # ❌ Error: invalid literal\n",
    "int(\"123\")  # ✅ Fix: Valid, returns 123\n",
    "\n",
    "- Use type() to confirm the type after conversion.\n",
    "\n",
    "#### Summary Table\n",
    "\n",
    "| From → To     | Conversion Function | Example        | Result          |\n",
    "| ------------- | ------------------- | -------------- | --------------- |\n",
    "| `int → str`   | `str()`             | `str(123)`     | `\"123\"`         |\n",
    "| `str → int`   | `int()`             | `int(\"123\")`   | `123`           |\n",
    "| `float → int` | `int()`             | `int(4.9)`     | `4`             |\n",
    "| `list → set`  | `set()`             | `set([1,2,2])` | `{1,2}`         |\n",
    "| `str → list`  | `list()`            | `list(\"abc\")`  | `['a','b','c']` |\n",
    "\n",
    "#### 🚫 Invalid Type Conversions in Python\n",
    "\n",
    "| From → To                       | Attempted Function | ❌ Example          | ❗ Why It Fails                                 |\n",
    "| ------------------------------- | ------------------ | ------------------ | ---------------------------------------------- |\n",
    "| `str → int`                     | `int(\"abc\")`       | `int(\"abc\")`       | \"abc\" is not a number                          |\n",
    "| `str → float`                   | `float(\"xyz\")`     | `float(\"xyz\")`     | \"xyz\" is not a valid float                     |\n",
    "| `str → list of int`             | `list(int(\"123\"))` | `list(int(\"123\"))` | `int(\"123\")` returns `123`, not iterable       |\n",
    "| `int → dict`                    | `dict(100)`        | `dict(100)`        | An `int` is not iterable                       |\n",
    "| `str → dict`                    | `dict(\"hello\")`    | `dict(\"hello\")`    | Must be list of key-value pairs (e.g., tuples) |\n",
    "| `list → int`                    | `int([1,2,3])`     | `int([1, 2, 3])`   | A list can’t be directly converted to int      |\n",
    "| `None → int`                    | `int(None)`        | `int(None)`        | NoneType can’t convert to int                  |\n",
    "| `str (comma sep) → list of int` | `int(\"1,2,3\")`     | `int(\"1,2,3\")`     | It’s not a single valid number                 |\n"
   ]
  },
  {
   "cell_type": "markdown",
   "id": "5275d030",
   "metadata": {},
   "source": [
    "#### Operators\n",
    "\n",
    "Operators are used to perform operations on variables and values. Python has various types of operators, including arithmetic, comparison, logical, assignment, and more.\n",
    "Example: operand 1 + operand 2\n",
    "\n",
    "\n",
    "#### Arithmetic Operators\n",
    "# These operators are used to perform mathematical operations.\n",
    "\n",
    "a=2\n",
    "b=3\n",
    "c=6\n",
    "\n",
    "print(c-a+b)\n",
    "\n",
    "# PEMDAS (Parentheses → Exponents → Multiplication/Division → Addition/Subtraction)\n",
    "# IMP, But for + and -, they are evaluated left to right. L → R\n",
    "# 6-2 = 4 && 4+3 = 7\n",
    "# 6-2 +3 = 7  -> 6-2 = 4, then 4+3 = 7\n",
    "\n",
    "########################################################################################\n",
    "a = 10\n",
    "b = 5   \n",
    "print(a + b)  # Addition\n",
    "print(a - b)  # Subtraction \n",
    "print(a * b)  # Multiplication\n",
    "print(a / b)  # Division will give (Quotient) as a float\n",
    "print(a % b)  # Modulus (remainder)\n",
    "print(a ** b) # Exponentiation (a raised to the power of b)\n",
    "print(a // b) # Floor Division (quotient without remainder)\n",
    "print(a ** (1/3))  # Cube root of a\n",
    "\n",
    "'''\n",
    "       2   ← Quotient\n",
    "    _______\n",
    "  3 )   6\n",
    "      - 6      ← 3 * 2 = 6\n",
    "     ------\n",
    "       0    ← Remainder\n",
    "\n",
    "'''\n",
    "#### Comparison Operators\n",
    "# These operators are used to compare two values and return a boolean result.\n",
    "print(a == b)  # Equal to\n",
    "print(a != b)  # Not equal to   \n",
    "print(a > b)   # Greater than\n",
    "print(a < b)   # Less than\n",
    "print(a >= b)  # Greater than or equal to\n",
    "print(a <= b)  # Less than or equal to\n",
    "\n",
    "#### Logical Operators \n",
    "# These operators are used to combine conditional statements.\n",
    "print(a > 5 and b < 10)  # Logical AND \n",
    "print(a > 5 or b < 3)   # Logical OR\n",
    "print(not(a > 5))        # Logical NOT\n",
    "\n",
    "#### Assignment Operators\n",
    "# These operators are used to assign values to variables.\n",
    "a = 10\n",
    "b = 5   \n",
    "a += b  # Equivalent to a = a + b\n",
    "print(a)  # Output: 15     \n",
    "b -= 2  # Equivalent to b = b - 2\n",
    "print(b)  # Output: 3\n",
    "a *= 2  # Equivalent to a = a * 2\n",
    "print(a)  # Output: 30      \n",
    "b /= 2  # Equivalent to b = b / 2\n",
    "print(b)  # Output: 1.5\n",
    "a %= 2  # Equivalent to a = a % 2\n",
    "print(a)  # Output: 0\n",
    "\n",
    "b **= 3  # Equivalent to b = b ** 3\n",
    "print(b)  # Output: 3.375   \n",
    "a //= 2  # Equivalent to a = a // 2\n",
    "print(a)  # Output: 0\n",
    "b &= 1  # Equivalent to b = b & 1\n",
    "print(b)  # Output: 1.375\n",
    "b |= 2  # Equivalent to b = b | 2\n",
    "print(b)  # Output: 3.375\n",
    "b ^= 1  # Equivalent to b = b ^ 1\n",
    "print(b)  # Output: 2.375\n",
    "b <<= 1  # Equivalent to b = b << 1\n",
    "print(b)  # Output: 4.75    \n",
    "b >>= 1  # Equivalent to b = b >> 1\n",
    "print(b)  # Output: 2.375\n",
    "b = 2\n",
    "b <<= 1  # Equivalent to b = b << 1\n",
    "print(b)  # Output: 4\n",
    "b >>= 1  # Equivalent to b = b >> 1\n",
    "print(b)  # Output: 2\n",
    "b = 2\n",
    "b &= 1  # Equivalent to b = b & 1\n",
    "print(b)  # Output: 0\n",
    "\n",
    "# Bitwise Operators\n",
    "# These operators are used to perform bit-level operations on integers. \n",
    "print(a & b)  # Bitwise AND\n",
    "print(a | b)  # Bitwise OR\n",
    "print(a ^ b)  # Bitwise XOR\n",
    "print(~a)     # Bitwise NOT\n",
    "print(a << 1) # Bitwise left shift\n",
    "print(a >> 1) # Bitwise right shift\n",
    "print(a << 2) # Bitwise left shift by 2\n",
    "print(a >> 2) # Bitwise right shift by 2\n",
    "print(a << 4) # Bitwise left shift by 4\n",
    "print(a >> 4) # Bitwise right shift by 4    \n",
    "\n",
    "# Boolean Operators\n",
    "# These operators are used to perform logical operations on boolean values.\n",
    "print(True and False)  # Logical AND\n",
    "print(True or False)   # Logical OR\n",
    "print(not True)        # Logical NOT\n",
    "print(True and True)   # Logical AND\n",
    "print(False or False)  # Logical OR\n",
    "print(not False)       # Logical NOT\n",
    "\n",
    "# Identity Operators\n",
    "# These operators are used to check if two variables point to the same object in memory.\n",
    "print(a is b)  # Returns True if both variables point to the same object\n",
    "print(a is not b)  # Returns True if both variables do not point to the same object\n",
    "print(a is None)  # Returns True if a is None\n",
    "print(b is not None)  # Returns True if b is not None\n",
    "print(a is not None)  # Returns True if a is not None\n",
    "print(b is None)  # Returns True if b is None\n",
    "print(a is b)  # Returns True if both variables point to the same object\n",
    "print(a is not b)  # Returns True if both variables do not point to the same object\n",
    "print(a is None)  # Returns True if a is None"
   ]
  },
  {
   "cell_type": "markdown",
   "id": "d7c92f85",
   "metadata": {},
   "source": [
    "#### Function and Return:\n",
    "\n",
    "# A function is a block of reusable code that performs a specific task.\n",
    "# You define it once and can use it multiple times\n",
    "# like a mini-program inside your main program.\n",
    "\n",
    "# Why Use Functions?\n",
    "#   To avoid repeating code\n",
    "#   To organize logic clearly\n",
    "#   To make code easier to test and debug\n",
    "\n",
    "# A function is like a coffee machine:\n",
    "#    You give input (water +:22 coffee beans)\n",
    "#    Press a button (function call)\n",
    "#    It gives you coffee (output)\n",
    "\n",
    "# A function call means you're executing the function to run the code inside it.\n",
    "# The return keyword sends a result back from the function to wherever it was called.\n",
    "# Arguments are those, if you want to send data from caller to the function defination\n",
    "#    - Required Arguments\n",
    "#    - Keyword Arguments\n",
    "#    - Default Arguments\n",
    "#    - *args && *kargs"
   ]
  },
  {
   "cell_type": "markdown",
   "id": "e4e5dfc3",
   "metadata": {},
   "source": [
    "#### What is Parameter and Arguments\n",
    "\n",
    "def test(a, b, c): # here a,b,c is parameter\n",
    "    return a * b * c\n",
    "\n",
    "print(test(2, 4, 2)) # 2,4,2 is an argument that store values like variable\n",
    "\n",
    "# Output: 16   (2 * 4 * 2)\n",
    "\n",
    "# so arguments are pass to the parameter,\n",
    "# then return, returns value to print function.\n",
    "\n",
    "#=============================================================================================================================================\n",
    "#| Part      | Name                                  | Explanation                                                                           |\n",
    "#| --------- | ------------------------------------- | ------------------------------------------------------------------------------------- |\n",
    "#| `a, b, c` | **Parameters** (or formal parameters) | These are **placeholders** or **variable names** used in the **function definition**. |\n",
    "#| `2, 4, 2` | **Arguments** (or actual arguments)   | These are the **real values** you pass into the function when calling it.             |"
   ]
  },
  {
   "cell_type": "markdown",
   "id": "972fc296",
   "metadata": {},
   "source": [
    "# A function call means you're executing the function to run the code inside it.\n",
    "\n",
    "# The return keyword sends a result back from the function to wherever it was called.\n",
    "\n",
    "# Arguments are those, if you want to send data from caller to the function defination\n",
    "#    - Required Arguments\n",
    "#    - Keyword Arguments\n",
    "#    - Default Arguments\n",
    "#    - *args && *kargs\n",
    "\n",
    "def add(a,b,c):\n",
    "    print(f\"The value of a is {a}\")\n",
    "    print(f\"The value of a is {b}\")\n",
    "    print(f\"The value of a is {c}\")\n",
    "\n",
    "add(1,2,3)\n",
    "\n",
    "add(*map(int, input(\"Enter 3 numbers with space: \").split()))\n",
    "\n",
    "# Why Like this:- add(*map(int, input(\"Enter 3 numbers with space: \").split()))\n",
    "#_________________________________________________________________________________________________________\n",
    "# | Code                        | Valid? | Why                                                            |\n",
    "# | --------------------------- | ------ | ---------------------------------------------------------------|\n",
    "# | `map(int, input().split())` | ✅      | Applies `int` to each element of the list                     |\n",
    "# | `map(int(input().split()))` | ❌      | Tries to convert the whole list to `int()` first, which fails |\n",
    "\n",
    "# input(\"Enter...\").split()           # ➜ returns a list of strings\n",
    "# map(int, [...])                     # ➜ applies int() to each string\n",
    "# *map(...)                           # ➜ unpacks the mapped integers into the function\n",
    "# add(a, b, c)                        # ➜ gets the 3 unpacked numbers"
   ]
  },
  {
   "cell_type": "markdown",
   "id": "ab502ac3",
   "metadata": {},
   "source": [
    "#### Scope of Variable:\n",
    "\n",
    "# The variable in program may not accessible at all location\n",
    "# in that program. This depend on where you have declared var\n",
    "\n",
    "# The scope of a variable determines the portion of the program\n",
    "# where you can access a particular identifier\n",
    "# Two Scopes: Global Variable and Local Variable"
   ]
  },
  {
   "cell_type": "markdown",
   "id": "b0d48db8",
   "metadata": {},
   "source": [
    "#### Anonymous Functions:\n",
    "# In Python, Anonymous function means function without a name, defined using the lambda keyword.\n",
    "# Def keyword is used to define a function with a name like normal functions.\n",
    "\n",
    "# Lambda functions are small anonymous functions defined with the lambda keyword.\n",
    "# Lambda Functions: Lambda keyword is used to create an anonymous function.\n",
    "\n",
    "# lambda arguments: expression\n",
    "# Example: lambda x: x + 1 creates a function that adds 1 to its argument x.\n",
    "\n",
    "# This function can have any number of arguments but only one expression , which is evaluated and returned.\n",
    "# One is free to use lambda functions wherever function objects are required.\n",
    "# You need to keep in your knowledge that lambda functions are syntactically restricted to a single expression.\n",
    "# It has various uses in particular fields of programming besides other types of expressions in functions\n",
    "\n",
    "\n"
   ]
  }
 ],
 "metadata": {
  "kernelspec": {
   "display_name": ".venv",
   "language": "python",
   "name": "python3"
  },
  "language_info": {
   "codemirror_mode": {
    "name": "ipython",
    "version": 3
   },
   "file_extension": ".py",
   "mimetype": "text/x-python",
   "name": "python",
   "nbconvert_exporter": "python",
   "pygments_lexer": "ipython3",
   "version": "3.13.2"
  }
 },
 "nbformat": 4,
 "nbformat_minor": 5
}
